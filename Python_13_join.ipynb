{
  "cells": [
    {
      "cell_type": "markdown",
      "metadata": {
        "id": "kM59Wy4suxHw"
      },
      "source": [
        "# Pandas и большие файлы"
      ]
    },
    {
      "cell_type": "code",
      "execution_count": null,
      "metadata": {
        "id": "xtMPkKIouxH0"
      },
      "outputs": [],
      "source": [
        "import pandas as pd"
      ]
    },
    {
      "cell_type": "markdown",
      "metadata": {
        "id": "udkctdpEuxH2"
      },
      "source": [
        "### Упражнение\n",
        "Для каждого пользователя user_id из файла sales_db.csv посчитайте самую дорогую покупку (в столбце cost)"
      ]
    },
    {
      "cell_type": "code",
      "execution_count": null,
      "metadata": {
        "id": "8vc0UTGZuxH3"
      },
      "outputs": [],
      "source": []
    },
    {
      "cell_type": "code",
      "execution_count": null,
      "metadata": {
        "id": "wEAXHbCbuxH3"
      },
      "outputs": [],
      "source": []
    },
    {
      "cell_type": "code",
      "execution_count": null,
      "metadata": {
        "id": "FXA9Z7z2uxH4"
      },
      "outputs": [],
      "source": []
    },
    {
      "cell_type": "markdown",
      "metadata": {
        "id": "lvtyVxg5uxH4"
      },
      "source": [
        "# Объединение датафреймов"
      ]
    },
    {
      "cell_type": "markdown",
      "metadata": {
        "id": "xBHWLFWPuxH5"
      },
      "source": [
        "### Данные со слайдов"
      ]
    },
    {
      "cell_type": "code",
      "execution_count": null,
      "metadata": {
        "id": "QSBpHWGauxH5"
      },
      "outputs": [],
      "source": [
        "visits = pd.DataFrame(\n",
        "    {\n",
        "        'user_id': [11, 22, 55, 11, 77],\n",
        "        'source': ['ad', 'yandex', 'email', 'google', 'ad']\n",
        "    }\n",
        ")\n",
        "\n",
        "visits = visits[['user_id', 'source']]\n",
        "visits"
      ]
    },
    {
      "cell_type": "code",
      "execution_count": null,
      "metadata": {
        "scrolled": false,
        "id": "qft8wAhNuxH6"
      },
      "outputs": [],
      "source": [
        "purchases = pd.DataFrame(\n",
        "    {\n",
        "        'user_id': [11, 22, 55, 11, 99],\n",
        "        'category': ['Спорт', 'Авто', 'Дача', 'Спорт', 'Авто'],\n",
        "    }\n",
        ")\n",
        "\n",
        "purchases = purchases[['user_id', 'category']]\n",
        "purchases"
      ]
    },
    {
      "cell_type": "code",
      "execution_count": null,
      "metadata": {
        "scrolled": true,
        "id": "xZTNUp1DuxH7"
      },
      "outputs": [],
      "source": [
        "visits_grouped = visits.groupby('user_id').count()\n",
        "visits_grouped.rename(columns={'source': 'visits'}, inplace=True)\n",
        "visits_grouped"
      ]
    },
    {
      "cell_type": "code",
      "execution_count": null,
      "metadata": {
        "scrolled": false,
        "id": "tHSNy_VsuxH8"
      },
      "outputs": [],
      "source": [
        "visits.groupby('user_id').count().reset_index()"
      ]
    },
    {
      "cell_type": "code",
      "execution_count": null,
      "metadata": {
        "scrolled": false,
        "id": "qa6m6k-0uxH8"
      },
      "outputs": [],
      "source": [
        "purchases_pivot = purchases.pivot_table(index='user_id', columns='category', values='user_id',\n",
        "                                        aggfunc='size', fill_value=0)\n",
        "purchases_pivot"
      ]
    },
    {
      "cell_type": "code",
      "execution_count": null,
      "metadata": {
        "id": "bPCzs57ouxH9"
      },
      "outputs": [],
      "source": [
        "purchases_pivot.reset_index()"
      ]
    },
    {
      "cell_type": "code",
      "execution_count": null,
      "metadata": {
        "id": "4XRDLDifuxH9"
      },
      "outputs": [],
      "source": [
        "visits_grouped.join(purchases_pivot)"
      ]
    },
    {
      "cell_type": "markdown",
      "metadata": {
        "id": "7BkcWiMJuxH-"
      },
      "source": [
        "### LEFT join\n",
        "Каждой строчке в левой таблице ищет соответствие в правой"
      ]
    },
    {
      "cell_type": "code",
      "execution_count": null,
      "metadata": {
        "id": "hCS9LgY4uxH_"
      },
      "outputs": [],
      "source": [
        "visits_grouped.join(purchases_pivot, how='left')"
      ]
    },
    {
      "cell_type": "markdown",
      "metadata": {
        "id": "CKAb2ldpuxH_"
      },
      "source": [
        "### RIGHT join\n",
        "Каждой строчке в правой таблице ищет соответствие в левой"
      ]
    },
    {
      "cell_type": "code",
      "execution_count": null,
      "metadata": {
        "scrolled": true,
        "id": "P_dA-ok_uxIA"
      },
      "outputs": [],
      "source": [
        "visits_grouped.join(purchases_pivot, how='right')"
      ]
    },
    {
      "cell_type": "markdown",
      "metadata": {
        "id": "wxc0Hm4tuxIA"
      },
      "source": [
        "### Упражнение\n",
        "Дана статистика:\n",
        "- ID клиентов и их имена (датафрейм clients)\n",
        "- статистика доходов (earnings)\n",
        "- статистика расходов (spending)\n",
        "\n",
        "Определите имена клиентов, расходы которых превышают доходы."
      ]
    },
    {
      "cell_type": "code",
      "execution_count": null,
      "metadata": {
        "id": "SNx9D0nTuxIB"
      },
      "outputs": [],
      "source": [
        "# подсказка - по умолчанию в методе merge объединение НЕ left join\n",
        "\n",
        "?pd.DataFrame.merge"
      ]
    },
    {
      "cell_type": "code",
      "execution_count": null,
      "metadata": {
        "id": "GJoD7V0QuxIB"
      },
      "outputs": [],
      "source": [
        "clients = pd.DataFrame(\n",
        "    {\n",
        "        'id': [43018, 48329, 51043, 74943, 75029],\n",
        "        'name': ['Марков Илья', 'Зарицкая Елизавета', 'Благова Дарья', 'Слепова Елена', 'Гордецкий Максим'],\n",
        "    }\n",
        ")\n",
        "\n",
        "clients"
      ]
    },
    {
      "cell_type": "code",
      "execution_count": null,
      "metadata": {
        "id": "pazibeseuxIC"
      },
      "outputs": [],
      "source": [
        "earnings = pd.DataFrame(\n",
        "    {\n",
        "        'id': [51043, 48329, 74943, 75029, 43018],\n",
        "        'debit': [34500, 12400, 89044, 5355, 19800],\n",
        "    }\n",
        ")\n",
        "\n",
        "earnings"
      ]
    },
    {
      "cell_type": "code",
      "execution_count": null,
      "metadata": {
        "id": "Za6bvjhSuxID"
      },
      "outputs": [],
      "source": [
        "spending = pd.DataFrame(\n",
        "    {\n",
        "        'id': [51043, 48329, 74943, 75029, 43018],\n",
        "        'credit': [22990, 2500, 69880, 6000, 29000],\n",
        "    }\n",
        ")\n",
        "\n",
        "spending"
      ]
    },
    {
      "cell_type": "code",
      "execution_count": null,
      "metadata": {
        "id": "0QbV1LlguxID"
      },
      "outputs": [],
      "source": []
    },
    {
      "cell_type": "code",
      "execution_count": null,
      "metadata": {
        "id": "Rs_zXWlSuxID"
      },
      "outputs": [],
      "source": []
    },
    {
      "cell_type": "code",
      "execution_count": null,
      "metadata": {
        "id": "aGEE9xAluxIE"
      },
      "outputs": [],
      "source": []
    },
    {
      "cell_type": "markdown",
      "metadata": {
        "id": "0Kzh4qXVuxIE"
      },
      "source": [
        "### INNER join\n",
        "Оставляет строчки, которые есть в обеих таблицах"
      ]
    },
    {
      "cell_type": "code",
      "execution_count": null,
      "metadata": {
        "id": "sg1EKLIDuxIF"
      },
      "outputs": [],
      "source": [
        "visits_grouped.join(purchases_pivot, how='inner')"
      ]
    },
    {
      "cell_type": "markdown",
      "metadata": {
        "id": "6o2Xv4fGuxIF"
      },
      "source": [
        "### Outer join\n",
        "Оставляет все строчки"
      ]
    },
    {
      "cell_type": "code",
      "execution_count": null,
      "metadata": {
        "id": "N8Sz6T7wuxIF"
      },
      "outputs": [],
      "source": [
        "visits_grouped.join(purchases_pivot, how='outer')"
      ]
    },
    {
      "cell_type": "markdown",
      "metadata": {
        "id": "XPMHiDHjuxIG"
      },
      "source": [
        "# Конкатенация таблиц"
      ]
    },
    {
      "cell_type": "code",
      "execution_count": null,
      "metadata": {
        "id": "-GybKbYQuxIG"
      },
      "outputs": [],
      "source": [
        "a = pd.DataFrame({'date': ['2020-01-01', '2020-01-02', '2020-01-03'], 'value_a': [1, 2, 3]})\n",
        "b = pd.DataFrame({'date': ['2020-01-01', '2020-01-02', '2020-01-03'], 'value_b': [3, 4, 5]})"
      ]
    },
    {
      "cell_type": "code",
      "execution_count": null,
      "metadata": {
        "id": "2yXAMpAIuxIH"
      },
      "outputs": [],
      "source": [
        "a"
      ]
    },
    {
      "cell_type": "code",
      "execution_count": null,
      "metadata": {
        "id": "VE-BuFuGuxIH"
      },
      "outputs": [],
      "source": [
        "b"
      ]
    },
    {
      "cell_type": "code",
      "execution_count": null,
      "metadata": {
        "id": "Ik5SRposuxII"
      },
      "outputs": [],
      "source": [
        "pd.concat([a, b])"
      ]
    },
    {
      "cell_type": "code",
      "execution_count": null,
      "metadata": {
        "id": "yPZ1qqkUuxIJ"
      },
      "outputs": [],
      "source": [
        "# объединение по горизонтали\n",
        "pd.concat([a, b], axis=1)"
      ]
    },
    {
      "cell_type": "markdown",
      "metadata": {
        "id": "Zla_6cnZuxIK"
      },
      "source": [
        "### Дубликаты при объединении таблиц"
      ]
    },
    {
      "cell_type": "code",
      "execution_count": null,
      "metadata": {
        "id": "inI0a2ZuuxIK"
      },
      "outputs": [],
      "source": [
        "ratings = pd.read_csv('ratings_example.txt', sep = '\\t')\n",
        "ratings.head()"
      ]
    },
    {
      "cell_type": "code",
      "execution_count": null,
      "metadata": {
        "id": "Xrv9vp-AuxIu"
      },
      "outputs": [],
      "source": [
        "movies = pd.read_csv('movies_example.txt', sep = '\\t')\n",
        "movies.head()"
      ]
    },
    {
      "cell_type": "code",
      "execution_count": null,
      "metadata": {
        "id": "g55jqqQMuxIv"
      },
      "outputs": [],
      "source": [
        "# ¯\\_(ツ)_/¯\n",
        "\n",
        "ratings.merge(movies, how='left', on='movieId')"
      ]
    },
    {
      "cell_type": "code",
      "execution_count": null,
      "metadata": {
        "id": "1VQaWEdpuxIv"
      },
      "outputs": [],
      "source": [
        "movies.drop_duplicates(subset = 'movieId', keep = 'first', inplace = True)\n",
        "movies.head()"
      ]
    },
    {
      "cell_type": "code",
      "execution_count": null,
      "metadata": {
        "id": "VJxuDxWAuxIw"
      },
      "outputs": [],
      "source": [
        "ratings.merge(movies, how = 'left', on = 'movieId')"
      ]
    },
    {
      "cell_type": "code",
      "execution_count": null,
      "metadata": {
        "scrolled": false,
        "id": "pbmYoXhuuxIw"
      },
      "outputs": [],
      "source": [
        "ratings.merge(movies, how = 'right', on = 'movieId')"
      ]
    },
    {
      "cell_type": "markdown",
      "metadata": {
        "id": "Rx2EzNB7uxIw"
      },
      "source": [
        "### Упражнение\n",
        "Объедините датафреймы с визитами и покупками на сайте по ключу date. Обратите внимание, что в датафрейме визитов имеются дубликаты по дате."
      ]
    },
    {
      "cell_type": "code",
      "execution_count": null,
      "metadata": {
        "id": "i_01v4aNuxIx"
      },
      "outputs": [],
      "source": [
        "visits = pd.DataFrame(\n",
        "    {'date': ['2019-11-01', '2019-11-01', '2019-11-02', '2019-11-02', '2019-11-03'],\n",
        "     'source': ['organic', 'paid', 'organic', 'paid', 'organic'],\n",
        "     'visits': [16825, 1952, 21890, 376, 19509]}\n",
        ")\n",
        "\n",
        "visits"
      ]
    },
    {
      "cell_type": "code",
      "execution_count": null,
      "metadata": {
        "id": "QRN2ce0BuxIx"
      },
      "outputs": [],
      "source": [
        "orders = pd.DataFrame(\n",
        "    {'date': ['2019-11-01', '2019-11-02', '2019-11-03'],\n",
        "     'orders': [198, 225, 201]}\n",
        ")\n",
        "\n",
        "orders"
      ]
    },
    {
      "cell_type": "code",
      "execution_count": null,
      "metadata": {
        "id": "tZS4nMhsuxIx"
      },
      "outputs": [],
      "source": []
    },
    {
      "cell_type": "code",
      "execution_count": null,
      "metadata": {
        "id": "wHwxWFUCuxIy"
      },
      "outputs": [],
      "source": []
    },
    {
      "cell_type": "code",
      "execution_count": null,
      "metadata": {
        "id": "KNfzw__XuxIy"
      },
      "outputs": [],
      "source": []
    },
    {
      "cell_type": "markdown",
      "metadata": {
        "id": "amSvAPwmuxIy"
      },
      "source": [
        "### Оптимизация хранения данных"
      ]
    },
    {
      "cell_type": "code",
      "execution_count": null,
      "metadata": {
        "id": "uMrR4CwtuxIz"
      },
      "outputs": [],
      "source": [
        "# 2.4mb\n",
        "ratings = pd.read_csv('ml-latest-small/ratings.csv')\n",
        "\n",
        "# 0.5mb\n",
        "movies = pd.read_csv('ml-latest-small/movies.csv')\n",
        "joined = ratings.merge(movies, how='left', on='movieId')"
      ]
    },
    {
      "cell_type": "code",
      "execution_count": null,
      "metadata": {
        "id": "FTmn1FMXuxIz"
      },
      "outputs": [],
      "source": [
        "joined.head()"
      ]
    },
    {
      "cell_type": "code",
      "execution_count": null,
      "metadata": {
        "id": "u0IttVZDuxIz"
      },
      "outputs": [],
      "source": [
        "ratings = pd.read_csv('ml-latest-small/ratings.csv')\n",
        "ratings.head()"
      ]
    },
    {
      "cell_type": "code",
      "execution_count": null,
      "metadata": {
        "id": "aHZmP9HpuxI0"
      },
      "outputs": [],
      "source": [
        "len(ratings)"
      ]
    },
    {
      "cell_type": "code",
      "execution_count": null,
      "metadata": {
        "id": "oUpU3v9WuxI0"
      },
      "outputs": [],
      "source": [
        "movies = pd.read_csv('ml-latest-small/movies.csv')\n",
        "movies.head()"
      ]
    },
    {
      "cell_type": "code",
      "execution_count": null,
      "metadata": {
        "id": "5VG_JlgQuxI0"
      },
      "outputs": [],
      "source": [
        "len(movies)"
      ]
    },
    {
      "cell_type": "code",
      "execution_count": null,
      "metadata": {
        "id": "dexsJloVuxI1"
      },
      "outputs": [],
      "source": [
        "len(ratings) == len(joined)"
      ]
    },
    {
      "cell_type": "code",
      "execution_count": null,
      "metadata": {
        "id": "vq5mYzL4uxI1"
      },
      "outputs": [],
      "source": [
        "joined.to_csv('joined_ratings.csv', index=False)"
      ]
    },
    {
      "cell_type": "code",
      "execution_count": null,
      "metadata": {
        "id": "Xxj0owSLuxI1"
      },
      "outputs": [],
      "source": [
        "joined.head()"
      ]
    },
    {
      "cell_type": "code",
      "execution_count": null,
      "metadata": {
        "scrolled": true,
        "id": "n5RJi6IJuxI1"
      },
      "outputs": [],
      "source": [
        "logs = joined[['userId', 'movieId', 'rating']].head()"
      ]
    },
    {
      "cell_type": "code",
      "execution_count": null,
      "metadata": {
        "id": "VxkrQ6MXuxI2"
      },
      "outputs": [],
      "source": [
        "len(joined[['movieId', 'title', 'genres']].drop_duplicates())"
      ]
    },
    {
      "cell_type": "markdown",
      "metadata": {
        "id": "85J74qCKuxI2"
      },
      "source": [
        "### Какой жанр имеет самые высокие рейтинги?"
      ]
    },
    {
      "cell_type": "code",
      "execution_count": null,
      "metadata": {
        "id": "3PM4dZq3uxI2"
      },
      "outputs": [],
      "source": [
        "import numpy as np"
      ]
    },
    {
      "cell_type": "code",
      "execution_count": null,
      "metadata": {
        "id": "gT1uqBuvuxI3"
      },
      "outputs": [],
      "source": [
        "genres = ['Drama', 'Action', 'Thriller']"
      ]
    },
    {
      "cell_type": "code",
      "execution_count": null,
      "metadata": {
        "id": "Afmf0NKeuxI3"
      },
      "outputs": [],
      "source": [
        "ratings = pd.read_csv('ml-latest-small/ratings.csv')\n",
        "ratings.head()"
      ]
    },
    {
      "cell_type": "code",
      "execution_count": null,
      "metadata": {
        "id": "HWUYDBdTuxI3"
      },
      "outputs": [],
      "source": [
        "len(ratings)"
      ]
    },
    {
      "cell_type": "code",
      "execution_count": null,
      "metadata": {
        "id": "egagSiI6uxI4"
      },
      "outputs": [],
      "source": [
        "movies = pd.read_csv('ml-latest-small/movies.csv')\n",
        "movies.head()"
      ]
    },
    {
      "cell_type": "code",
      "execution_count": null,
      "metadata": {
        "id": "2VNsZCesuxI4"
      },
      "outputs": [],
      "source": [
        "len(movies)"
      ]
    },
    {
      "cell_type": "code",
      "execution_count": null,
      "metadata": {
        "id": "GF4G9TPluxI5"
      },
      "outputs": [],
      "source": [
        "joined = ratings.merge(movies, on='movieId', how='left')\n",
        "joined.head()"
      ]
    },
    {
      "cell_type": "code",
      "execution_count": null,
      "metadata": {
        "id": "z4L88rB8uxI5"
      },
      "outputs": [],
      "source": [
        "# рекомендуемая проверка на возможные дубликаты\n",
        "\n",
        "len(ratings) == len(joined)"
      ]
    },
    {
      "cell_type": "markdown",
      "metadata": {
        "id": "PAbSt8E0uxI5"
      },
      "source": [
        "### Считаем рейтинг жанров"
      ]
    },
    {
      "cell_type": "code",
      "execution_count": null,
      "metadata": {
        "id": "QARV6IzmuxI6"
      },
      "outputs": [],
      "source": [
        "# еще раз список жанров\n",
        "\n",
        "genres = ['Drama', 'Action', 'Thriller']"
      ]
    },
    {
      "cell_type": "code",
      "execution_count": null,
      "metadata": {
        "id": "O3XcIGnMuxI6"
      },
      "outputs": [],
      "source": [
        "def genres_ratings(row):\n",
        "    \"\"\"Возвращает рейтинг, если он есть в списке жанров данного фильма\"\"\"\n",
        "\n",
        "    return pd.Series([row['rating'] if genre in row['genres'] else np.NaN for genre in genres])"
      ]
    },
    {
      "cell_type": "code",
      "execution_count": null,
      "metadata": {
        "scrolled": true,
        "id": "mirkUKsIuxI6"
      },
      "outputs": [],
      "source": [
        "%%time\n",
        "joined[genres] = joined.apply(genres_ratings, axis=1)"
      ]
    },
    {
      "cell_type": "code",
      "execution_count": null,
      "metadata": {
        "id": "vPRU81tzuxI7"
      },
      "outputs": [],
      "source": [
        "def genres_ratings_version_2(row):\n",
        "    \"\"\"Возвращает рейтинг, если он есть в списке жанров данного фильма\"\"\"\n",
        "\n",
        "    for genre in genres:\n",
        "        if genre in row.genres:\n",
        "            row[genre] = row.rating\n",
        "\n",
        "    return rating"
      ]
    },
    {
      "cell_type": "code",
      "execution_count": null,
      "metadata": {
        "id": "sFJnZ0dbuxI7"
      },
      "outputs": [],
      "source": [
        "joined[genres] = joined.apply(genres_ratings, axis=1)\n",
        "joined.head()"
      ]
    },
    {
      "cell_type": "markdown",
      "metadata": {
        "id": "6QyVmPiPuxI7"
      },
      "source": [
        "### Упражнение\n",
        "Выведите средний рейтинг каждого жанра из списка genres"
      ]
    },
    {
      "cell_type": "code",
      "execution_count": null,
      "metadata": {
        "id": "2PKtjgk8uxI8"
      },
      "outputs": [],
      "source": []
    },
    {
      "cell_type": "code",
      "execution_count": null,
      "metadata": {
        "id": "_k0A1OhyuxI8"
      },
      "outputs": [],
      "source": []
    },
    {
      "cell_type": "code",
      "execution_count": null,
      "metadata": {
        "id": "i5AsS9uAuxI8"
      },
      "outputs": [],
      "source": []
    },
    {
      "cell_type": "markdown",
      "metadata": {
        "id": "HPM358gwuxI9"
      },
      "source": [
        "### К домашнему заданию №4\n",
        "Дана статистика услуг перевозок клиентов компании по типам:\n",
        "- rzd - железнодорожные перевозки\n",
        "- auto - автомобильные перевозки\n",
        "- air - воздушные перевозки\n",
        "- client_base - адреса клиентов"
      ]
    },
    {
      "cell_type": "code",
      "execution_count": null,
      "metadata": {
        "id": "bQUFMQ-9uxI9"
      },
      "outputs": [],
      "source": [
        "rzd = pd.DataFrame(\n",
        "    {\n",
        "        'client_id': [111, 112, 113, 114, 115],\n",
        "        'rzd_revenue': [1093, 2810, 10283, 5774, 981]\n",
        "    }\n",
        ")\n",
        "rzd"
      ]
    },
    {
      "cell_type": "code",
      "execution_count": null,
      "metadata": {
        "id": "6VF7t_F7uxI9"
      },
      "outputs": [],
      "source": [
        "auto = pd.DataFrame(\n",
        "    {\n",
        "        'client_id': [113, 114, 115, 116, 117],\n",
        "        'auto_revenue': [57483, 83, 912, 4834, 98]\n",
        "    }\n",
        ")\n",
        "auto"
      ]
    },
    {
      "cell_type": "code",
      "execution_count": null,
      "metadata": {
        "id": "UOjQj3AduxI-"
      },
      "outputs": [],
      "source": [
        "air = pd.DataFrame(\n",
        "    {\n",
        "        'client_id': [115, 116, 117, 118],\n",
        "        'air_revenue': [81, 4, 13, 173]\n",
        "    }\n",
        ")\n",
        "air"
      ]
    },
    {
      "cell_type": "code",
      "execution_count": null,
      "metadata": {
        "id": "Be2ad1g9uxI-"
      },
      "outputs": [],
      "source": [
        "client_base = pd.DataFrame(\n",
        "    {\n",
        "        'client_id': [111, 112, 113, 114, 115, 116, 117, 118],\n",
        "        'address': ['Комсомольская 4', 'Энтузиастов 8а', 'Левобережная 1а', 'Мира 14', 'ЗЖБИиДК 1',\n",
        "                    'Строителей 18', 'Панфиловская 33', 'Мастеркова 4']\n",
        "    }\n",
        ")\n",
        "client_base"
      ]
    },
    {
      "cell_type": "code",
      "execution_count": null,
      "metadata": {
        "id": "peiVNBacuxI-"
      },
      "outputs": [],
      "source": []
    },
    {
      "cell_type": "code",
      "execution_count": null,
      "metadata": {
        "id": "cp25Ld6YuxI_"
      },
      "outputs": [],
      "source": []
    },
    {
      "cell_type": "code",
      "execution_count": null,
      "metadata": {
        "id": "9WYOPq93uxI_"
      },
      "outputs": [],
      "source": []
    }
  ],
  "metadata": {
    "kernelspec": {
      "display_name": "Python 3",
      "language": "python",
      "name": "python3"
    },
    "language_info": {
      "codemirror_mode": {
        "name": "ipython",
        "version": 3
      },
      "file_extension": ".py",
      "mimetype": "text/x-python",
      "name": "python",
      "nbconvert_exporter": "python",
      "pygments_lexer": "ipython3",
      "version": "3.7.0"
    },
    "colab": {
      "provenance": []
    }
  },
  "nbformat": 4,
  "nbformat_minor": 0
}